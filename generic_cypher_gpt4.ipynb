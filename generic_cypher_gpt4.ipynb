{
  "cells": [
    {
      "cell_type": "code",
      "execution_count": 8,
      "metadata": {
        "colab": {
          "base_uri": "https://localhost:8080/"
        },
        "id": "JUDi5el-l8d8",
        "outputId": "9104694a-4f9e-4c3d-a66d-7c013ad333c6"
      },
      "outputs": [
        {
          "name": "stdout",
          "output_type": "stream",
          "text": [
            "Requirement already satisfied: openai in /Library/Frameworks/Python.framework/Versions/3.10/lib/python3.10/site-packages (0.27.6)\n",
            "Requirement already satisfied: neo4j in /Library/Frameworks/Python.framework/Versions/3.10/lib/python3.10/site-packages (5.8.0)\n",
            "Requirement already satisfied: python-dotenv in /Library/Frameworks/Python.framework/Versions/3.10/lib/python3.10/site-packages (1.0.0)\n",
            "Requirement already satisfied: tqdm in /Library/Frameworks/Python.framework/Versions/3.10/lib/python3.10/site-packages (from openai) (4.65.0)\n",
            "Requirement already satisfied: requests>=2.20 in /Library/Frameworks/Python.framework/Versions/3.10/lib/python3.10/site-packages (from openai) (2.28.1)\n",
            "Requirement already satisfied: aiohttp in /Library/Frameworks/Python.framework/Versions/3.10/lib/python3.10/site-packages (from openai) (3.8.4)\n",
            "Requirement already satisfied: pytz in /Library/Frameworks/Python.framework/Versions/3.10/lib/python3.10/site-packages (from neo4j) (2022.7.1)\n",
            "Requirement already satisfied: certifi>=2017.4.17 in /Library/Frameworks/Python.framework/Versions/3.10/lib/python3.10/site-packages (from requests>=2.20->openai) (2022.9.24)\n",
            "Requirement already satisfied: charset-normalizer<3,>=2 in /Library/Frameworks/Python.framework/Versions/3.10/lib/python3.10/site-packages (from requests>=2.20->openai) (2.1.1)\n",
            "Requirement already satisfied: idna<4,>=2.5 in /Library/Frameworks/Python.framework/Versions/3.10/lib/python3.10/site-packages (from requests>=2.20->openai) (3.4)\n",
            "Requirement already satisfied: urllib3<1.27,>=1.21.1 in /Library/Frameworks/Python.framework/Versions/3.10/lib/python3.10/site-packages (from requests>=2.20->openai) (1.26.12)\n",
            "Requirement already satisfied: multidict<7.0,>=4.5 in /Library/Frameworks/Python.framework/Versions/3.10/lib/python3.10/site-packages (from aiohttp->openai) (6.0.4)\n",
            "Requirement already satisfied: aiosignal>=1.1.2 in /Library/Frameworks/Python.framework/Versions/3.10/lib/python3.10/site-packages (from aiohttp->openai) (1.3.1)\n",
            "Requirement already satisfied: attrs>=17.3.0 in /Library/Frameworks/Python.framework/Versions/3.10/lib/python3.10/site-packages (from aiohttp->openai) (22.1.0)\n",
            "Requirement already satisfied: frozenlist>=1.1.1 in /Library/Frameworks/Python.framework/Versions/3.10/lib/python3.10/site-packages (from aiohttp->openai) (1.3.3)\n",
            "Requirement already satisfied: yarl<2.0,>=1.0 in /Library/Frameworks/Python.framework/Versions/3.10/lib/python3.10/site-packages (from aiohttp->openai) (1.9.2)\n",
            "Requirement already satisfied: async-timeout<5.0,>=4.0.0a3 in /Library/Frameworks/Python.framework/Versions/3.10/lib/python3.10/site-packages (from aiohttp->openai) (4.0.2)\n",
            "\n",
            "\u001b[1m[\u001b[0m\u001b[34;49mnotice\u001b[0m\u001b[1;39;49m]\u001b[0m\u001b[39;49m A new release of pip is available: \u001b[0m\u001b[31;49m23.0.1\u001b[0m\u001b[39;49m -> \u001b[0m\u001b[32;49m23.1.2\u001b[0m\n",
            "\u001b[1m[\u001b[0m\u001b[34;49mnotice\u001b[0m\u001b[1;39;49m]\u001b[0m\u001b[39;49m To update, run: \u001b[0m\u001b[32;49mpip install --upgrade pip\u001b[0m\n",
            "The dotenv extension is already loaded. To reload it, use:\n",
            "  %reload_ext dotenv\n"
          ]
        }
      ],
      "source": [
        "!pip install openai neo4j python-dotenv\n",
        "\n",
        "import os\n",
        "%load_ext dotenv\n",
        "%dotenv"
      ]
    },
    {
      "attachments": {},
      "cell_type": "markdown",
      "metadata": {
        "id": "NYILquGHZrd7"
      },
      "source": [
        "# Generating Cypher queries with GPT-4 on any graph schema\n",
        "\n",
        "Large language models have a great potential to translate natural language into query language. For example, some people like to use GPT models to translate text to SQL, while others want to use GPT models to construct SPARQL queries. Personally, I prefer exploring how to translate natural language to Cypher query language.\n",
        "In my experiments, I have noticed there are two approaches to developing an LLM flow that constructs Cypher statements. One option is to provide example queries in the prompt or use the examples to finetune an LLM model. However, the limitation of this approach is that it requires some work to produce the Cypher examples. Therefore, the example Cypher queries must be generated for each graph schema. On the other hand, we can provide an LLM directly with schema information and let it construct Cypher statements based on graph schema information alone. Using the second approach, we could develop a generic Cypher statement model to produce Cypher statements for any input graph schema, as we eliminate the need for any additional work like generating example Cypher statements.\n",
        "This blog post aims to show you how to implement a Cypher statement-generating model by providing only the graph schema information. We will evaluate the model's Cypher construction capabilities on three graphs with different graph schemas. Currently, the only model I recommend to generate Cypher statements based on only the provided graph schema is GPT-4. Other models like GPT-3.5-turbo or text-davinci-003 aren't that great, and I have yet to find an open-source LLM model that would be good at following instructions in the prompt as well as GPT-4.\n",
        "## Experiment Setup\n",
        "I have implemented a Python class that connects to a Neo4j instance and fetches the schema information when initialized. The graph schema information can then be used as input to GPT-4 model."
      ]
    },
    {
      "cell_type": "code",
      "execution_count": 9,
      "metadata": {
        "id": "67N5Q5-CmuG8"
      },
      "outputs": [],
      "source": [
        "node_properties_query = \"\"\"\n",
        "CALL apoc.meta.data()\n",
        "YIELD label, other, elementType, type, property\n",
        "WHERE NOT type = \"RELATIONSHIP\" AND elementType = \"node\"\n",
        "WITH label AS nodeLabels, collect(property) AS properties\n",
        "RETURN {labels: nodeLabels, properties: properties} AS output\n",
        "\n",
        "\"\"\"\n",
        "\n",
        "rel_properties_query = \"\"\"\n",
        "CALL apoc.meta.data()\n",
        "YIELD label, other, elementType, type, property\n",
        "WHERE NOT type = \"RELATIONSHIP\" AND elementType = \"relationship\"\n",
        "WITH label AS nodeLabels, collect(property) AS properties\n",
        "RETURN {type: nodeLabels, properties: properties} AS output\n",
        "\"\"\"\n",
        "\n",
        "rel_query = \"\"\"\n",
        "CALL apoc.meta.data()\n",
        "YIELD label, other, elementType, type, property\n",
        "WHERE type = \"RELATIONSHIP\" AND elementType = \"node\"\n",
        "RETURN {source: label, relationship: property, target: other} AS output\n",
        "\"\"\""
      ]
    },
    {
      "cell_type": "code",
      "execution_count": 10,
      "metadata": {
        "id": "IHY0Kt2-mFFq"
      },
      "outputs": [],
      "source": [
        "from neo4j import GraphDatabase\n",
        "from neo4j.exceptions import CypherSyntaxError\n",
        "import openai\n",
        "\n",
        "\n",
        "def schema_text(node_props, rel_props, rels):\n",
        "    return f\"\"\"\n",
        "  This is the schema representation of the Neo4j database.\n",
        "  Node properties are the following:\n",
        "  {node_props}\n",
        "  Relationship properties are the following:\n",
        "  {rel_props}\n",
        "  Relationship point from source to target nodes\n",
        "  {rels}\n",
        "  Make sure to respect relationship types and directions\n",
        "  \"\"\"\n",
        "\n",
        "\n",
        "class Neo4jGPTQuery:\n",
        "    def __init__(self, url, user, password, database, openai_api_key):\n",
        "        self.driver = GraphDatabase.driver(url, auth=(user, password), database=database)\n",
        "        openai.api_key = openai_api_key\n",
        "        # construct schema\n",
        "        self.schema = self.generate_schema()\n",
        "\n",
        "\n",
        "    def generate_schema(self):\n",
        "        node_props = self.query_database(node_properties_query)\n",
        "        rel_props = self.query_database(rel_properties_query)\n",
        "        rels = self.query_database(rel_query)\n",
        "        return schema_text(node_props, rel_props, rels)\n",
        "\n",
        "    def refresh_schema(self):\n",
        "        self.schema = self.generate_schema()\n",
        "\n",
        "    def get_system_message(self):\n",
        "        return f\"\"\"\n",
        "        Task: Generate Cypher queries to query a Neo4j graph database based on the provided schema definition.\n",
        "        Instructions:\n",
        "        Use only the provided relationship types and properties.\n",
        "        Do not use any other relationship types or properties that are not provided.\n",
        "        Return only Cypher code.\n",
        "        Schema:\n",
        "        {self.schema}\n",
        "        \"\"\"\n",
        "\n",
        "    def query_database(self, neo4j_query, params={}):\n",
        "        with self.driver.session() as session:\n",
        "            result = session.run(neo4j_query, params)\n",
        "            output = [r.values() for r in result]\n",
        "            output.insert(0, result.keys())\n",
        "            return output\n",
        "\n",
        "    def construct_cypher(self, question, history=None):\n",
        "        messages = [\n",
        "            {\"role\": \"system\", \"content\": self.get_system_message()},\n",
        "            {\"role\": \"user\", \"content\": question},\n",
        "        ]\n",
        "        # Used for Cypher healing flows\n",
        "        if history:\n",
        "            messages.extend(history)\n",
        "\n",
        "        completions = openai.ChatCompletion.create(\n",
        "            model=\"gpt-3.5-turbo\",\n",
        "            temperature=0.0,\n",
        "            max_tokens=1000,\n",
        "            messages=messages\n",
        "        )\n",
        "        return completions.choices[0].message.content\n",
        "\n",
        "    def run(self, question, history=None, retry=True):\n",
        "        # Construct Cypher statement\n",
        "        cypher = self.construct_cypher(question, history)\n",
        "        print(cypher)\n",
        "        try:\n",
        "            return self.query_database(cypher)\n",
        "        # Self-healing flow\n",
        "        except CypherSyntaxError as e:\n",
        "            # If out of retries\n",
        "            if not retry:\n",
        "              return \"Invalid Cypher syntax\"\n",
        "        # Self-healing Cypher flow by\n",
        "        # providing specific error to GPT-4\n",
        "            print(\"Retrying\")\n",
        "            return self.run(\n",
        "                question,\n",
        "                [\n",
        "                    {\"role\": \"assistant\", \"content\": cypher},\n",
        "                    {\n",
        "                        \"role\": \"user\",\n",
        "                        \"content\": f\"\"\"This query returns an error: {str(e)} \n",
        "                        Give me a improved query that works without any explanations or apologies\"\"\",\n",
        "                    },\n",
        "                ],\n",
        "                retry=False\n",
        "            )\n"
      ]
    },
    {
      "attachments": {},
      "cell_type": "markdown",
      "metadata": {},
      "source": [
        "### I am using my infamous Citation database from Bloom training here"
      ]
    },
    {
      "cell_type": "code",
      "execution_count": 15,
      "metadata": {
        "id": "NZTTW3TkpKFY"
      },
      "outputs": [],
      "source": [
        "demo_db = Neo4jGPTQuery(\n",
        "    url=\"bolt://localhost:7687\",\n",
        "    user=\"neo4j\",\n",
        "    password=\"Abcd-1234\",\n",
        "    database=\"citation\",\n",
        "    openai_api_key=os.getenv(\"OPENAI_API_KEY\"),\n",
        ")\n"
      ]
    },
    {
      "cell_type": "code",
      "execution_count": 17,
      "metadata": {
        "colab": {
          "base_uri": "https://localhost:8080/"
        },
        "id": "TyBNV92QqeUn",
        "outputId": "fca146ab-ac24-4abc-9d6b-3db3db0d4f8d"
      },
      "outputs": [
        {
          "ename": "AuthenticationError",
          "evalue": "Incorrect API key provided: sk-sPlLr***************************************X81L. You can find your API key at https://platform.openai.com/account/api-keys.",
          "output_type": "error",
          "traceback": [
            "\u001b[0;31m---------------------------------------------------------------------------\u001b[0m",
            "\u001b[0;31mAuthenticationError\u001b[0m                       Traceback (most recent call last)",
            "\u001b[1;32m/Users/mariusconjeaud/Documents/projects/internal/neodash-gpt/tomaz-blog-posts/generic_cypher_gpt4.ipynb Cell 7\u001b[0m in \u001b[0;36m1\n\u001b[0;32m----> <a href='vscode-notebook-cell:/Users/mariusconjeaud/Documents/projects/internal/neodash-gpt/tomaz-blog-posts/generic_cypher_gpt4.ipynb#X10sZmlsZQ%3D%3D?line=0'>1</a>\u001b[0m demo_db\u001b[39m.\u001b[39mrun(\u001b[39m\"\"\"\u001b[39m\n\u001b[1;32m      <a href='vscode-notebook-cell:/Users/mariusconjeaud/Documents/projects/internal/neodash-gpt/tomaz-blog-posts/generic_cypher_gpt4.ipynb#X10sZmlsZQ%3D%3D?line=1'>2</a>\u001b[0m \u001b[39mWhat is the title of the most cited Article ? This report will show only the first value of the first row returned.\u001b[39m\n\u001b[1;32m      <a href='vscode-notebook-cell:/Users/mariusconjeaud/Documents/projects/internal/neodash-gpt/tomaz-blog-posts/generic_cypher_gpt4.ipynb#X10sZmlsZQ%3D%3D?line=2'>3</a>\u001b[0m \u001b[39m\"\"\"\u001b[39m)\n",
            "\u001b[1;32m/Users/mariusconjeaud/Documents/projects/internal/neodash-gpt/tomaz-blog-posts/generic_cypher_gpt4.ipynb Cell 7\u001b[0m in \u001b[0;36m7\n\u001b[1;32m     <a href='vscode-notebook-cell:/Users/mariusconjeaud/Documents/projects/internal/neodash-gpt/tomaz-blog-posts/generic_cypher_gpt4.ipynb#X10sZmlsZQ%3D%3D?line=70'>71</a>\u001b[0m \u001b[39mdef\u001b[39;00m \u001b[39mrun\u001b[39m(\u001b[39mself\u001b[39m, question, history\u001b[39m=\u001b[39m\u001b[39mNone\u001b[39;00m, retry\u001b[39m=\u001b[39m\u001b[39mTrue\u001b[39;00m):\n\u001b[1;32m     <a href='vscode-notebook-cell:/Users/mariusconjeaud/Documents/projects/internal/neodash-gpt/tomaz-blog-posts/generic_cypher_gpt4.ipynb#X10sZmlsZQ%3D%3D?line=71'>72</a>\u001b[0m     \u001b[39m# Construct Cypher statement\u001b[39;00m\n\u001b[0;32m---> <a href='vscode-notebook-cell:/Users/mariusconjeaud/Documents/projects/internal/neodash-gpt/tomaz-blog-posts/generic_cypher_gpt4.ipynb#X10sZmlsZQ%3D%3D?line=72'>73</a>\u001b[0m     cypher \u001b[39m=\u001b[39m \u001b[39mself\u001b[39;49m\u001b[39m.\u001b[39;49mconstruct_cypher(question, history)\n\u001b[1;32m     <a href='vscode-notebook-cell:/Users/mariusconjeaud/Documents/projects/internal/neodash-gpt/tomaz-blog-posts/generic_cypher_gpt4.ipynb#X10sZmlsZQ%3D%3D?line=73'>74</a>\u001b[0m     \u001b[39mprint\u001b[39m(cypher)\n\u001b[1;32m     <a href='vscode-notebook-cell:/Users/mariusconjeaud/Documents/projects/internal/neodash-gpt/tomaz-blog-posts/generic_cypher_gpt4.ipynb#X10sZmlsZQ%3D%3D?line=74'>75</a>\u001b[0m     \u001b[39mtry\u001b[39;00m:\n",
            "\u001b[1;32m/Users/mariusconjeaud/Documents/projects/internal/neodash-gpt/tomaz-blog-posts/generic_cypher_gpt4.ipynb Cell 7\u001b[0m in \u001b[0;36m6\n\u001b[1;32m     <a href='vscode-notebook-cell:/Users/mariusconjeaud/Documents/projects/internal/neodash-gpt/tomaz-blog-posts/generic_cypher_gpt4.ipynb#X10sZmlsZQ%3D%3D?line=59'>60</a>\u001b[0m \u001b[39mif\u001b[39;00m history:\n\u001b[1;32m     <a href='vscode-notebook-cell:/Users/mariusconjeaud/Documents/projects/internal/neodash-gpt/tomaz-blog-posts/generic_cypher_gpt4.ipynb#X10sZmlsZQ%3D%3D?line=60'>61</a>\u001b[0m     messages\u001b[39m.\u001b[39mextend(history)\n\u001b[0;32m---> <a href='vscode-notebook-cell:/Users/mariusconjeaud/Documents/projects/internal/neodash-gpt/tomaz-blog-posts/generic_cypher_gpt4.ipynb#X10sZmlsZQ%3D%3D?line=62'>63</a>\u001b[0m completions \u001b[39m=\u001b[39m openai\u001b[39m.\u001b[39;49mChatCompletion\u001b[39m.\u001b[39;49mcreate(\n\u001b[1;32m     <a href='vscode-notebook-cell:/Users/mariusconjeaud/Documents/projects/internal/neodash-gpt/tomaz-blog-posts/generic_cypher_gpt4.ipynb#X10sZmlsZQ%3D%3D?line=63'>64</a>\u001b[0m     model\u001b[39m=\u001b[39;49m\u001b[39m\"\u001b[39;49m\u001b[39mgpt-3.5-turbo\u001b[39;49m\u001b[39m\"\u001b[39;49m,\n\u001b[1;32m     <a href='vscode-notebook-cell:/Users/mariusconjeaud/Documents/projects/internal/neodash-gpt/tomaz-blog-posts/generic_cypher_gpt4.ipynb#X10sZmlsZQ%3D%3D?line=64'>65</a>\u001b[0m     temperature\u001b[39m=\u001b[39;49m\u001b[39m0.0\u001b[39;49m,\n\u001b[1;32m     <a href='vscode-notebook-cell:/Users/mariusconjeaud/Documents/projects/internal/neodash-gpt/tomaz-blog-posts/generic_cypher_gpt4.ipynb#X10sZmlsZQ%3D%3D?line=65'>66</a>\u001b[0m     max_tokens\u001b[39m=\u001b[39;49m\u001b[39m1000\u001b[39;49m,\n\u001b[1;32m     <a href='vscode-notebook-cell:/Users/mariusconjeaud/Documents/projects/internal/neodash-gpt/tomaz-blog-posts/generic_cypher_gpt4.ipynb#X10sZmlsZQ%3D%3D?line=66'>67</a>\u001b[0m     messages\u001b[39m=\u001b[39;49mmessages\n\u001b[1;32m     <a href='vscode-notebook-cell:/Users/mariusconjeaud/Documents/projects/internal/neodash-gpt/tomaz-blog-posts/generic_cypher_gpt4.ipynb#X10sZmlsZQ%3D%3D?line=67'>68</a>\u001b[0m )\n\u001b[1;32m     <a href='vscode-notebook-cell:/Users/mariusconjeaud/Documents/projects/internal/neodash-gpt/tomaz-blog-posts/generic_cypher_gpt4.ipynb#X10sZmlsZQ%3D%3D?line=68'>69</a>\u001b[0m \u001b[39mreturn\u001b[39;00m completions\u001b[39m.\u001b[39mchoices[\u001b[39m0\u001b[39m]\u001b[39m.\u001b[39mmessage\u001b[39m.\u001b[39mcontent\n",
            "File \u001b[0;32m/Library/Frameworks/Python.framework/Versions/3.10/lib/python3.10/site-packages/openai/api_resources/chat_completion.py:25\u001b[0m, in \u001b[0;36mChatCompletion.create\u001b[0;34m(cls, *args, **kwargs)\u001b[0m\n\u001b[1;32m     23\u001b[0m \u001b[39mwhile\u001b[39;00m \u001b[39mTrue\u001b[39;00m:\n\u001b[1;32m     24\u001b[0m     \u001b[39mtry\u001b[39;00m:\n\u001b[0;32m---> 25\u001b[0m         \u001b[39mreturn\u001b[39;00m \u001b[39msuper\u001b[39;49m()\u001b[39m.\u001b[39;49mcreate(\u001b[39m*\u001b[39;49margs, \u001b[39m*\u001b[39;49m\u001b[39m*\u001b[39;49mkwargs)\n\u001b[1;32m     26\u001b[0m     \u001b[39mexcept\u001b[39;00m TryAgain \u001b[39mas\u001b[39;00m e:\n\u001b[1;32m     27\u001b[0m         \u001b[39mif\u001b[39;00m timeout \u001b[39mis\u001b[39;00m \u001b[39mnot\u001b[39;00m \u001b[39mNone\u001b[39;00m \u001b[39mand\u001b[39;00m time\u001b[39m.\u001b[39mtime() \u001b[39m>\u001b[39m start \u001b[39m+\u001b[39m timeout:\n",
            "File \u001b[0;32m/Library/Frameworks/Python.framework/Versions/3.10/lib/python3.10/site-packages/openai/api_resources/abstract/engine_api_resource.py:153\u001b[0m, in \u001b[0;36mEngineAPIResource.create\u001b[0;34m(cls, api_key, api_base, api_type, request_id, api_version, organization, **params)\u001b[0m\n\u001b[1;32m    127\u001b[0m \u001b[39m@classmethod\u001b[39m\n\u001b[1;32m    128\u001b[0m \u001b[39mdef\u001b[39;00m \u001b[39mcreate\u001b[39m(\n\u001b[1;32m    129\u001b[0m     \u001b[39mcls\u001b[39m,\n\u001b[0;32m   (...)\u001b[0m\n\u001b[1;32m    136\u001b[0m     \u001b[39m*\u001b[39m\u001b[39m*\u001b[39mparams,\n\u001b[1;32m    137\u001b[0m ):\n\u001b[1;32m    138\u001b[0m     (\n\u001b[1;32m    139\u001b[0m         deployment_id,\n\u001b[1;32m    140\u001b[0m         engine,\n\u001b[0;32m   (...)\u001b[0m\n\u001b[1;32m    150\u001b[0m         api_key, api_base, api_type, api_version, organization, \u001b[39m*\u001b[39m\u001b[39m*\u001b[39mparams\n\u001b[1;32m    151\u001b[0m     )\n\u001b[0;32m--> 153\u001b[0m     response, _, api_key \u001b[39m=\u001b[39m requestor\u001b[39m.\u001b[39;49mrequest(\n\u001b[1;32m    154\u001b[0m         \u001b[39m\"\u001b[39;49m\u001b[39mpost\u001b[39;49m\u001b[39m\"\u001b[39;49m,\n\u001b[1;32m    155\u001b[0m         url,\n\u001b[1;32m    156\u001b[0m         params\u001b[39m=\u001b[39;49mparams,\n\u001b[1;32m    157\u001b[0m         headers\u001b[39m=\u001b[39;49mheaders,\n\u001b[1;32m    158\u001b[0m         stream\u001b[39m=\u001b[39;49mstream,\n\u001b[1;32m    159\u001b[0m         request_id\u001b[39m=\u001b[39;49mrequest_id,\n\u001b[1;32m    160\u001b[0m         request_timeout\u001b[39m=\u001b[39;49mrequest_timeout,\n\u001b[1;32m    161\u001b[0m     )\n\u001b[1;32m    163\u001b[0m     \u001b[39mif\u001b[39;00m stream:\n\u001b[1;32m    164\u001b[0m         \u001b[39m# must be an iterator\u001b[39;00m\n\u001b[1;32m    165\u001b[0m         \u001b[39massert\u001b[39;00m \u001b[39mnot\u001b[39;00m \u001b[39misinstance\u001b[39m(response, OpenAIResponse)\n",
            "File \u001b[0;32m/Library/Frameworks/Python.framework/Versions/3.10/lib/python3.10/site-packages/openai/api_requestor.py:230\u001b[0m, in \u001b[0;36mAPIRequestor.request\u001b[0;34m(self, method, url, params, headers, files, stream, request_id, request_timeout)\u001b[0m\n\u001b[1;32m    209\u001b[0m \u001b[39mdef\u001b[39;00m \u001b[39mrequest\u001b[39m(\n\u001b[1;32m    210\u001b[0m     \u001b[39mself\u001b[39m,\n\u001b[1;32m    211\u001b[0m     method,\n\u001b[0;32m   (...)\u001b[0m\n\u001b[1;32m    218\u001b[0m     request_timeout: Optional[Union[\u001b[39mfloat\u001b[39m, Tuple[\u001b[39mfloat\u001b[39m, \u001b[39mfloat\u001b[39m]]] \u001b[39m=\u001b[39m \u001b[39mNone\u001b[39;00m,\n\u001b[1;32m    219\u001b[0m ) \u001b[39m-\u001b[39m\u001b[39m>\u001b[39m Tuple[Union[OpenAIResponse, Iterator[OpenAIResponse]], \u001b[39mbool\u001b[39m, \u001b[39mstr\u001b[39m]:\n\u001b[1;32m    220\u001b[0m     result \u001b[39m=\u001b[39m \u001b[39mself\u001b[39m\u001b[39m.\u001b[39mrequest_raw(\n\u001b[1;32m    221\u001b[0m         method\u001b[39m.\u001b[39mlower(),\n\u001b[1;32m    222\u001b[0m         url,\n\u001b[0;32m   (...)\u001b[0m\n\u001b[1;32m    228\u001b[0m         request_timeout\u001b[39m=\u001b[39mrequest_timeout,\n\u001b[1;32m    229\u001b[0m     )\n\u001b[0;32m--> 230\u001b[0m     resp, got_stream \u001b[39m=\u001b[39m \u001b[39mself\u001b[39;49m\u001b[39m.\u001b[39;49m_interpret_response(result, stream)\n\u001b[1;32m    231\u001b[0m     \u001b[39mreturn\u001b[39;00m resp, got_stream, \u001b[39mself\u001b[39m\u001b[39m.\u001b[39mapi_key\n",
            "File \u001b[0;32m/Library/Frameworks/Python.framework/Versions/3.10/lib/python3.10/site-packages/openai/api_requestor.py:624\u001b[0m, in \u001b[0;36mAPIRequestor._interpret_response\u001b[0;34m(self, result, stream)\u001b[0m\n\u001b[1;32m    616\u001b[0m     \u001b[39mreturn\u001b[39;00m (\n\u001b[1;32m    617\u001b[0m         \u001b[39mself\u001b[39m\u001b[39m.\u001b[39m_interpret_response_line(\n\u001b[1;32m    618\u001b[0m             line, result\u001b[39m.\u001b[39mstatus_code, result\u001b[39m.\u001b[39mheaders, stream\u001b[39m=\u001b[39m\u001b[39mTrue\u001b[39;00m\n\u001b[1;32m    619\u001b[0m         )\n\u001b[1;32m    620\u001b[0m         \u001b[39mfor\u001b[39;00m line \u001b[39min\u001b[39;00m parse_stream(result\u001b[39m.\u001b[39miter_lines())\n\u001b[1;32m    621\u001b[0m     ), \u001b[39mTrue\u001b[39;00m\n\u001b[1;32m    622\u001b[0m \u001b[39melse\u001b[39;00m:\n\u001b[1;32m    623\u001b[0m     \u001b[39mreturn\u001b[39;00m (\n\u001b[0;32m--> 624\u001b[0m         \u001b[39mself\u001b[39;49m\u001b[39m.\u001b[39;49m_interpret_response_line(\n\u001b[1;32m    625\u001b[0m             result\u001b[39m.\u001b[39;49mcontent\u001b[39m.\u001b[39;49mdecode(\u001b[39m\"\u001b[39;49m\u001b[39mutf-8\u001b[39;49m\u001b[39m\"\u001b[39;49m),\n\u001b[1;32m    626\u001b[0m             result\u001b[39m.\u001b[39;49mstatus_code,\n\u001b[1;32m    627\u001b[0m             result\u001b[39m.\u001b[39;49mheaders,\n\u001b[1;32m    628\u001b[0m             stream\u001b[39m=\u001b[39;49m\u001b[39mFalse\u001b[39;49;00m,\n\u001b[1;32m    629\u001b[0m         ),\n\u001b[1;32m    630\u001b[0m         \u001b[39mFalse\u001b[39;00m,\n\u001b[1;32m    631\u001b[0m     )\n",
            "File \u001b[0;32m/Library/Frameworks/Python.framework/Versions/3.10/lib/python3.10/site-packages/openai/api_requestor.py:687\u001b[0m, in \u001b[0;36mAPIRequestor._interpret_response_line\u001b[0;34m(self, rbody, rcode, rheaders, stream)\u001b[0m\n\u001b[1;32m    685\u001b[0m stream_error \u001b[39m=\u001b[39m stream \u001b[39mand\u001b[39;00m \u001b[39m\"\u001b[39m\u001b[39merror\u001b[39m\u001b[39m\"\u001b[39m \u001b[39min\u001b[39;00m resp\u001b[39m.\u001b[39mdata\n\u001b[1;32m    686\u001b[0m \u001b[39mif\u001b[39;00m stream_error \u001b[39mor\u001b[39;00m \u001b[39mnot\u001b[39;00m \u001b[39m200\u001b[39m \u001b[39m<\u001b[39m\u001b[39m=\u001b[39m rcode \u001b[39m<\u001b[39m \u001b[39m300\u001b[39m:\n\u001b[0;32m--> 687\u001b[0m     \u001b[39mraise\u001b[39;00m \u001b[39mself\u001b[39m\u001b[39m.\u001b[39mhandle_error_response(\n\u001b[1;32m    688\u001b[0m         rbody, rcode, resp\u001b[39m.\u001b[39mdata, rheaders, stream_error\u001b[39m=\u001b[39mstream_error\n\u001b[1;32m    689\u001b[0m     )\n\u001b[1;32m    690\u001b[0m \u001b[39mreturn\u001b[39;00m resp\n",
            "\u001b[0;31mAuthenticationError\u001b[0m: Incorrect API key provided: sk-sPlLr***************************************X81L. You can find your API key at https://platform.openai.com/account/api-keys."
          ]
        }
      ],
      "source": [
        "demo_db.run(\"\"\"\n",
        "What is the title of the most cited Article ? This report will show only the first value of the first row returned.\n",
        "\"\"\")"
      ]
    },
    {
      "cell_type": "code",
      "execution_count": 16,
      "metadata": {},
      "outputs": [
        {
          "ename": "AuthenticationError",
          "evalue": "Incorrect API key provided: sk-sPlLr***************************************X81L. You can find your API key at https://platform.openai.com/account/api-keys.",
          "output_type": "error",
          "traceback": [
            "\u001b[0;31m---------------------------------------------------------------------------\u001b[0m",
            "\u001b[0;31mAuthenticationError\u001b[0m                       Traceback (most recent call last)",
            "\u001b[1;32m/Users/mariusconjeaud/Documents/projects/internal/neodash-gpt/tomaz-blog-posts/generic_cypher_gpt4.ipynb Cell 8\u001b[0m in \u001b[0;36m1\n\u001b[0;32m----> <a href='vscode-notebook-cell:/Users/mariusconjeaud/Documents/projects/internal/neodash-gpt/tomaz-blog-posts/generic_cypher_gpt4.ipynb#X11sZmlsZQ%3D%3D?line=0'>1</a>\u001b[0m demo_db\u001b[39m.\u001b[39mrun(\u001b[39m\"\"\"\u001b[39m\n\u001b[1;32m      <a href='vscode-notebook-cell:/Users/mariusconjeaud/Documents/projects/internal/neodash-gpt/tomaz-blog-posts/generic_cypher_gpt4.ipynb#X11sZmlsZQ%3D%3D?line=1'>2</a>\u001b[0m \u001b[39mNumber of articles per year ? A pie chart expects two fields: a category and a value.\u001b[39m\n\u001b[1;32m      <a href='vscode-notebook-cell:/Users/mariusconjeaud/Documents/projects/internal/neodash-gpt/tomaz-blog-posts/generic_cypher_gpt4.ipynb#X11sZmlsZQ%3D%3D?line=2'>3</a>\u001b[0m \u001b[39m\"\"\"\u001b[39m)\n",
            "\u001b[1;32m/Users/mariusconjeaud/Documents/projects/internal/neodash-gpt/tomaz-blog-posts/generic_cypher_gpt4.ipynb Cell 8\u001b[0m in \u001b[0;36m7\n\u001b[1;32m     <a href='vscode-notebook-cell:/Users/mariusconjeaud/Documents/projects/internal/neodash-gpt/tomaz-blog-posts/generic_cypher_gpt4.ipynb#X11sZmlsZQ%3D%3D?line=70'>71</a>\u001b[0m \u001b[39mdef\u001b[39;00m \u001b[39mrun\u001b[39m(\u001b[39mself\u001b[39m, question, history\u001b[39m=\u001b[39m\u001b[39mNone\u001b[39;00m, retry\u001b[39m=\u001b[39m\u001b[39mTrue\u001b[39;00m):\n\u001b[1;32m     <a href='vscode-notebook-cell:/Users/mariusconjeaud/Documents/projects/internal/neodash-gpt/tomaz-blog-posts/generic_cypher_gpt4.ipynb#X11sZmlsZQ%3D%3D?line=71'>72</a>\u001b[0m     \u001b[39m# Construct Cypher statement\u001b[39;00m\n\u001b[0;32m---> <a href='vscode-notebook-cell:/Users/mariusconjeaud/Documents/projects/internal/neodash-gpt/tomaz-blog-posts/generic_cypher_gpt4.ipynb#X11sZmlsZQ%3D%3D?line=72'>73</a>\u001b[0m     cypher \u001b[39m=\u001b[39m \u001b[39mself\u001b[39;49m\u001b[39m.\u001b[39;49mconstruct_cypher(question, history)\n\u001b[1;32m     <a href='vscode-notebook-cell:/Users/mariusconjeaud/Documents/projects/internal/neodash-gpt/tomaz-blog-posts/generic_cypher_gpt4.ipynb#X11sZmlsZQ%3D%3D?line=73'>74</a>\u001b[0m     \u001b[39mprint\u001b[39m(cypher)\n\u001b[1;32m     <a href='vscode-notebook-cell:/Users/mariusconjeaud/Documents/projects/internal/neodash-gpt/tomaz-blog-posts/generic_cypher_gpt4.ipynb#X11sZmlsZQ%3D%3D?line=74'>75</a>\u001b[0m     \u001b[39mtry\u001b[39;00m:\n",
            "\u001b[1;32m/Users/mariusconjeaud/Documents/projects/internal/neodash-gpt/tomaz-blog-posts/generic_cypher_gpt4.ipynb Cell 8\u001b[0m in \u001b[0;36m6\n\u001b[1;32m     <a href='vscode-notebook-cell:/Users/mariusconjeaud/Documents/projects/internal/neodash-gpt/tomaz-blog-posts/generic_cypher_gpt4.ipynb#X11sZmlsZQ%3D%3D?line=59'>60</a>\u001b[0m \u001b[39mif\u001b[39;00m history:\n\u001b[1;32m     <a href='vscode-notebook-cell:/Users/mariusconjeaud/Documents/projects/internal/neodash-gpt/tomaz-blog-posts/generic_cypher_gpt4.ipynb#X11sZmlsZQ%3D%3D?line=60'>61</a>\u001b[0m     messages\u001b[39m.\u001b[39mextend(history)\n\u001b[0;32m---> <a href='vscode-notebook-cell:/Users/mariusconjeaud/Documents/projects/internal/neodash-gpt/tomaz-blog-posts/generic_cypher_gpt4.ipynb#X11sZmlsZQ%3D%3D?line=62'>63</a>\u001b[0m completions \u001b[39m=\u001b[39m openai\u001b[39m.\u001b[39;49mChatCompletion\u001b[39m.\u001b[39;49mcreate(\n\u001b[1;32m     <a href='vscode-notebook-cell:/Users/mariusconjeaud/Documents/projects/internal/neodash-gpt/tomaz-blog-posts/generic_cypher_gpt4.ipynb#X11sZmlsZQ%3D%3D?line=63'>64</a>\u001b[0m     model\u001b[39m=\u001b[39;49m\u001b[39m\"\u001b[39;49m\u001b[39mgpt-3.5-turbo\u001b[39;49m\u001b[39m\"\u001b[39;49m,\n\u001b[1;32m     <a href='vscode-notebook-cell:/Users/mariusconjeaud/Documents/projects/internal/neodash-gpt/tomaz-blog-posts/generic_cypher_gpt4.ipynb#X11sZmlsZQ%3D%3D?line=64'>65</a>\u001b[0m     temperature\u001b[39m=\u001b[39;49m\u001b[39m0.0\u001b[39;49m,\n\u001b[1;32m     <a href='vscode-notebook-cell:/Users/mariusconjeaud/Documents/projects/internal/neodash-gpt/tomaz-blog-posts/generic_cypher_gpt4.ipynb#X11sZmlsZQ%3D%3D?line=65'>66</a>\u001b[0m     max_tokens\u001b[39m=\u001b[39;49m\u001b[39m1000\u001b[39;49m,\n\u001b[1;32m     <a href='vscode-notebook-cell:/Users/mariusconjeaud/Documents/projects/internal/neodash-gpt/tomaz-blog-posts/generic_cypher_gpt4.ipynb#X11sZmlsZQ%3D%3D?line=66'>67</a>\u001b[0m     messages\u001b[39m=\u001b[39;49mmessages\n\u001b[1;32m     <a href='vscode-notebook-cell:/Users/mariusconjeaud/Documents/projects/internal/neodash-gpt/tomaz-blog-posts/generic_cypher_gpt4.ipynb#X11sZmlsZQ%3D%3D?line=67'>68</a>\u001b[0m )\n\u001b[1;32m     <a href='vscode-notebook-cell:/Users/mariusconjeaud/Documents/projects/internal/neodash-gpt/tomaz-blog-posts/generic_cypher_gpt4.ipynb#X11sZmlsZQ%3D%3D?line=68'>69</a>\u001b[0m \u001b[39mreturn\u001b[39;00m completions\u001b[39m.\u001b[39mchoices[\u001b[39m0\u001b[39m]\u001b[39m.\u001b[39mmessage\u001b[39m.\u001b[39mcontent\n",
            "File \u001b[0;32m/Library/Frameworks/Python.framework/Versions/3.10/lib/python3.10/site-packages/openai/api_resources/chat_completion.py:25\u001b[0m, in \u001b[0;36mChatCompletion.create\u001b[0;34m(cls, *args, **kwargs)\u001b[0m\n\u001b[1;32m     23\u001b[0m \u001b[39mwhile\u001b[39;00m \u001b[39mTrue\u001b[39;00m:\n\u001b[1;32m     24\u001b[0m     \u001b[39mtry\u001b[39;00m:\n\u001b[0;32m---> 25\u001b[0m         \u001b[39mreturn\u001b[39;00m \u001b[39msuper\u001b[39;49m()\u001b[39m.\u001b[39;49mcreate(\u001b[39m*\u001b[39;49margs, \u001b[39m*\u001b[39;49m\u001b[39m*\u001b[39;49mkwargs)\n\u001b[1;32m     26\u001b[0m     \u001b[39mexcept\u001b[39;00m TryAgain \u001b[39mas\u001b[39;00m e:\n\u001b[1;32m     27\u001b[0m         \u001b[39mif\u001b[39;00m timeout \u001b[39mis\u001b[39;00m \u001b[39mnot\u001b[39;00m \u001b[39mNone\u001b[39;00m \u001b[39mand\u001b[39;00m time\u001b[39m.\u001b[39mtime() \u001b[39m>\u001b[39m start \u001b[39m+\u001b[39m timeout:\n",
            "File \u001b[0;32m/Library/Frameworks/Python.framework/Versions/3.10/lib/python3.10/site-packages/openai/api_resources/abstract/engine_api_resource.py:153\u001b[0m, in \u001b[0;36mEngineAPIResource.create\u001b[0;34m(cls, api_key, api_base, api_type, request_id, api_version, organization, **params)\u001b[0m\n\u001b[1;32m    127\u001b[0m \u001b[39m@classmethod\u001b[39m\n\u001b[1;32m    128\u001b[0m \u001b[39mdef\u001b[39;00m \u001b[39mcreate\u001b[39m(\n\u001b[1;32m    129\u001b[0m     \u001b[39mcls\u001b[39m,\n\u001b[0;32m   (...)\u001b[0m\n\u001b[1;32m    136\u001b[0m     \u001b[39m*\u001b[39m\u001b[39m*\u001b[39mparams,\n\u001b[1;32m    137\u001b[0m ):\n\u001b[1;32m    138\u001b[0m     (\n\u001b[1;32m    139\u001b[0m         deployment_id,\n\u001b[1;32m    140\u001b[0m         engine,\n\u001b[0;32m   (...)\u001b[0m\n\u001b[1;32m    150\u001b[0m         api_key, api_base, api_type, api_version, organization, \u001b[39m*\u001b[39m\u001b[39m*\u001b[39mparams\n\u001b[1;32m    151\u001b[0m     )\n\u001b[0;32m--> 153\u001b[0m     response, _, api_key \u001b[39m=\u001b[39m requestor\u001b[39m.\u001b[39;49mrequest(\n\u001b[1;32m    154\u001b[0m         \u001b[39m\"\u001b[39;49m\u001b[39mpost\u001b[39;49m\u001b[39m\"\u001b[39;49m,\n\u001b[1;32m    155\u001b[0m         url,\n\u001b[1;32m    156\u001b[0m         params\u001b[39m=\u001b[39;49mparams,\n\u001b[1;32m    157\u001b[0m         headers\u001b[39m=\u001b[39;49mheaders,\n\u001b[1;32m    158\u001b[0m         stream\u001b[39m=\u001b[39;49mstream,\n\u001b[1;32m    159\u001b[0m         request_id\u001b[39m=\u001b[39;49mrequest_id,\n\u001b[1;32m    160\u001b[0m         request_timeout\u001b[39m=\u001b[39;49mrequest_timeout,\n\u001b[1;32m    161\u001b[0m     )\n\u001b[1;32m    163\u001b[0m     \u001b[39mif\u001b[39;00m stream:\n\u001b[1;32m    164\u001b[0m         \u001b[39m# must be an iterator\u001b[39;00m\n\u001b[1;32m    165\u001b[0m         \u001b[39massert\u001b[39;00m \u001b[39mnot\u001b[39;00m \u001b[39misinstance\u001b[39m(response, OpenAIResponse)\n",
            "File \u001b[0;32m/Library/Frameworks/Python.framework/Versions/3.10/lib/python3.10/site-packages/openai/api_requestor.py:230\u001b[0m, in \u001b[0;36mAPIRequestor.request\u001b[0;34m(self, method, url, params, headers, files, stream, request_id, request_timeout)\u001b[0m\n\u001b[1;32m    209\u001b[0m \u001b[39mdef\u001b[39;00m \u001b[39mrequest\u001b[39m(\n\u001b[1;32m    210\u001b[0m     \u001b[39mself\u001b[39m,\n\u001b[1;32m    211\u001b[0m     method,\n\u001b[0;32m   (...)\u001b[0m\n\u001b[1;32m    218\u001b[0m     request_timeout: Optional[Union[\u001b[39mfloat\u001b[39m, Tuple[\u001b[39mfloat\u001b[39m, \u001b[39mfloat\u001b[39m]]] \u001b[39m=\u001b[39m \u001b[39mNone\u001b[39;00m,\n\u001b[1;32m    219\u001b[0m ) \u001b[39m-\u001b[39m\u001b[39m>\u001b[39m Tuple[Union[OpenAIResponse, Iterator[OpenAIResponse]], \u001b[39mbool\u001b[39m, \u001b[39mstr\u001b[39m]:\n\u001b[1;32m    220\u001b[0m     result \u001b[39m=\u001b[39m \u001b[39mself\u001b[39m\u001b[39m.\u001b[39mrequest_raw(\n\u001b[1;32m    221\u001b[0m         method\u001b[39m.\u001b[39mlower(),\n\u001b[1;32m    222\u001b[0m         url,\n\u001b[0;32m   (...)\u001b[0m\n\u001b[1;32m    228\u001b[0m         request_timeout\u001b[39m=\u001b[39mrequest_timeout,\n\u001b[1;32m    229\u001b[0m     )\n\u001b[0;32m--> 230\u001b[0m     resp, got_stream \u001b[39m=\u001b[39m \u001b[39mself\u001b[39;49m\u001b[39m.\u001b[39;49m_interpret_response(result, stream)\n\u001b[1;32m    231\u001b[0m     \u001b[39mreturn\u001b[39;00m resp, got_stream, \u001b[39mself\u001b[39m\u001b[39m.\u001b[39mapi_key\n",
            "File \u001b[0;32m/Library/Frameworks/Python.framework/Versions/3.10/lib/python3.10/site-packages/openai/api_requestor.py:624\u001b[0m, in \u001b[0;36mAPIRequestor._interpret_response\u001b[0;34m(self, result, stream)\u001b[0m\n\u001b[1;32m    616\u001b[0m     \u001b[39mreturn\u001b[39;00m (\n\u001b[1;32m    617\u001b[0m         \u001b[39mself\u001b[39m\u001b[39m.\u001b[39m_interpret_response_line(\n\u001b[1;32m    618\u001b[0m             line, result\u001b[39m.\u001b[39mstatus_code, result\u001b[39m.\u001b[39mheaders, stream\u001b[39m=\u001b[39m\u001b[39mTrue\u001b[39;00m\n\u001b[1;32m    619\u001b[0m         )\n\u001b[1;32m    620\u001b[0m         \u001b[39mfor\u001b[39;00m line \u001b[39min\u001b[39;00m parse_stream(result\u001b[39m.\u001b[39miter_lines())\n\u001b[1;32m    621\u001b[0m     ), \u001b[39mTrue\u001b[39;00m\n\u001b[1;32m    622\u001b[0m \u001b[39melse\u001b[39;00m:\n\u001b[1;32m    623\u001b[0m     \u001b[39mreturn\u001b[39;00m (\n\u001b[0;32m--> 624\u001b[0m         \u001b[39mself\u001b[39;49m\u001b[39m.\u001b[39;49m_interpret_response_line(\n\u001b[1;32m    625\u001b[0m             result\u001b[39m.\u001b[39;49mcontent\u001b[39m.\u001b[39;49mdecode(\u001b[39m\"\u001b[39;49m\u001b[39mutf-8\u001b[39;49m\u001b[39m\"\u001b[39;49m),\n\u001b[1;32m    626\u001b[0m             result\u001b[39m.\u001b[39;49mstatus_code,\n\u001b[1;32m    627\u001b[0m             result\u001b[39m.\u001b[39;49mheaders,\n\u001b[1;32m    628\u001b[0m             stream\u001b[39m=\u001b[39;49m\u001b[39mFalse\u001b[39;49;00m,\n\u001b[1;32m    629\u001b[0m         ),\n\u001b[1;32m    630\u001b[0m         \u001b[39mFalse\u001b[39;00m,\n\u001b[1;32m    631\u001b[0m     )\n",
            "File \u001b[0;32m/Library/Frameworks/Python.framework/Versions/3.10/lib/python3.10/site-packages/openai/api_requestor.py:687\u001b[0m, in \u001b[0;36mAPIRequestor._interpret_response_line\u001b[0;34m(self, rbody, rcode, rheaders, stream)\u001b[0m\n\u001b[1;32m    685\u001b[0m stream_error \u001b[39m=\u001b[39m stream \u001b[39mand\u001b[39;00m \u001b[39m\"\u001b[39m\u001b[39merror\u001b[39m\u001b[39m\"\u001b[39m \u001b[39min\u001b[39;00m resp\u001b[39m.\u001b[39mdata\n\u001b[1;32m    686\u001b[0m \u001b[39mif\u001b[39;00m stream_error \u001b[39mor\u001b[39;00m \u001b[39mnot\u001b[39;00m \u001b[39m200\u001b[39m \u001b[39m<\u001b[39m\u001b[39m=\u001b[39m rcode \u001b[39m<\u001b[39m \u001b[39m300\u001b[39m:\n\u001b[0;32m--> 687\u001b[0m     \u001b[39mraise\u001b[39;00m \u001b[39mself\u001b[39m\u001b[39m.\u001b[39mhandle_error_response(\n\u001b[1;32m    688\u001b[0m         rbody, rcode, resp\u001b[39m.\u001b[39mdata, rheaders, stream_error\u001b[39m=\u001b[39mstream_error\n\u001b[1;32m    689\u001b[0m     )\n\u001b[1;32m    690\u001b[0m \u001b[39mreturn\u001b[39;00m resp\n",
            "\u001b[0;31mAuthenticationError\u001b[0m: Incorrect API key provided: sk-sPlLr***************************************X81L. You can find your API key at https://platform.openai.com/account/api-keys."
          ]
        }
      ],
      "source": [
        "demo_db.run(\"\"\"\n",
        "Number of articles per year ? A pie chart expects two fields: a category and a value.\n",
        "\"\"\")"
      ]
    },
    {
      "cell_type": "code",
      "execution_count": null,
      "metadata": {},
      "outputs": [],
      "source": []
    }
  ],
  "metadata": {
    "colab": {
      "authorship_tag": "ABX9TyMV47wMTNlwFnmIA1EX1mSX",
      "include_colab_link": true,
      "provenance": []
    },
    "kernelspec": {
      "display_name": "Python 3",
      "name": "python3"
    },
    "language_info": {
      "codemirror_mode": {
        "name": "ipython",
        "version": 3
      },
      "file_extension": ".py",
      "mimetype": "text/x-python",
      "name": "python",
      "nbconvert_exporter": "python",
      "pygments_lexer": "ipython3",
      "version": "3.10.7"
    }
  },
  "nbformat": 4,
  "nbformat_minor": 0
}
